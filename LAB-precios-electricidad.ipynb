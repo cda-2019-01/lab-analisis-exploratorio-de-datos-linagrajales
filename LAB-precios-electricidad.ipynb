{
 "cells": [
  {
   "cell_type": "markdown",
   "metadata": {},
   "source": [
    "Evolución de los Precios de la Electricidad\n",
    "==="
   ]
  },
  {
   "cell_type": "markdown",
   "metadata": {},
   "source": [
    "# Instrucciones"
   ]
  },
  {
   "cell_type": "markdown",
   "metadata": {},
   "source": [
    "En el archivo `precios.zip`  se encuentran los archivos `Precio_Bolsa_Nacional_($kwh)_ano.xls` en formato de Microsoft Excel, los cuales contienen los precios históricos horarios de la electricidad para el mercado eléctrico Colombiano entre los años 1995 y 2017 en COL-PESOS/kWh. A partir de la información suministrada realice las siguientes actividades. "
   ]
  },
  {
   "cell_type": "markdown",
   "metadata": {},
   "source": [
    "**1.--** Lea los archivos y cree una tabla única concatenando la información para cada uno de los años. Debe transformar la tabla de tal forma que quede con las columnas `Fecha`, `Hora` y `Precio` (únicamente tres columnas)."
   ]
  },
  {
   "cell_type": "code",
   "execution_count": 1,
   "metadata": {},
   "outputs": [],
   "source": [
    "import pandas as pd\n",
    "import numpy as np\n",
    "import glob\n",
    "import matplotlib.pyplot as plt\n",
    "import datetime as dt\n",
    "\n",
    "%matplotlib inline"
   ]
  },
  {
   "cell_type": "code",
   "execution_count": 2,
   "metadata": {},
   "outputs": [],
   "source": [
    "file = pd.read_excel(\"Precio/Precio_Bolsa_Nacional_($kwh)_1995.xlsx\",header=2)\n",
    "\n",
    "colname = [\"fecha\",\"hora\",\"precio\"]\n",
    "\n",
    "data = []\n",
    "for i in range(file.shape[0]):    \n",
    "    for j in range(1,25):\n",
    "        #print(str(file.iloc[i,0])+\" \"+str(j-1)+\" \"+str(file.iloc[i,j]))\n",
    "        data.append([file.iloc[i,0],j-1,file.iloc[i,j]])      "
   ]
  },
  {
   "cell_type": "code",
   "execution_count": 3,
   "metadata": {},
   "outputs": [],
   "source": [
    "data = []\n",
    "for k in range(1995,2016):\n",
    "    filename= \"Precio/Precio_Bolsa_Nacional_($kwh)_\"+str(k)+\".xlsx\"\n",
    "    file = pd.read_excel(filename,header=2)    \n",
    "    for i in range(file.shape[0]):\n",
    "        for j in range(1,25):\n",
    "            data.append([file.iloc[i,0],j-1,file.iloc[i,j]])   \n",
    "            \n",
    "for k in range(2016,2019):\n",
    "    filename= \"Precio/Precio_Bolsa_Nacional_($kwh)_\"+str(k)+\".xls\"\n",
    "    file = pd.read_excel(filename,header=2)    \n",
    "    for i in range(file.shape[0]):\n",
    "        for j in range(1,25):\n",
    "            data.append([file.iloc[i,0],j-1,file.iloc[i,j]])       \n",
    "\n",
    "df = pd.DataFrame(data,columns=colname)"
   ]
  },
  {
   "cell_type": "markdown",
   "metadata": {},
   "source": [
    "**2.--** Compute e imprima el número de registros con datos faltantes."
   ]
  },
  {
   "cell_type": "code",
   "execution_count": 4,
   "metadata": {},
   "outputs": [
    {
     "data": {
      "text/plain": [
       "454"
      ]
     },
     "execution_count": 4,
     "metadata": {},
     "output_type": "execute_result"
    }
   ],
   "source": [
    "(df.isna().sum()).sum()"
   ]
  },
  {
   "cell_type": "markdown",
   "metadata": {},
   "source": [
    "**3.--** Compute e imprima el número de registros duplicados."
   ]
  },
  {
   "cell_type": "code",
   "execution_count": 5,
   "metadata": {},
   "outputs": [
    {
     "data": {
      "text/plain": [
       "1951"
      ]
     },
     "execution_count": 5,
     "metadata": {},
     "output_type": "execute_result"
    }
   ],
   "source": [
    "(df.duplicated()).sum()"
   ]
  },
  {
   "cell_type": "code",
   "execution_count": 6,
   "metadata": {},
   "outputs": [
    {
     "data": {
      "text/plain": [
       "(201816, 3)"
      ]
     },
     "execution_count": 6,
     "metadata": {},
     "output_type": "execute_result"
    }
   ],
   "source": [
    "df.shape"
   ]
  },
  {
   "cell_type": "markdown",
   "metadata": {},
   "source": [
    "**4.--** Elimine los registros con datos duplicados o datos faltantes, e imprima la cantidad de registros que quedan (registros completos)."
   ]
  },
  {
   "cell_type": "code",
   "execution_count": 7,
   "metadata": {},
   "outputs": [
    {
     "data": {
      "text/plain": [
       "(199865, 3)"
      ]
     },
     "execution_count": 7,
     "metadata": {},
     "output_type": "execute_result"
    }
   ],
   "source": [
    "df1=df.drop_duplicates()\n",
    "df1.shape"
   ]
  },
  {
   "cell_type": "code",
   "execution_count": 8,
   "metadata": {},
   "outputs": [
    {
     "data": {
      "text/plain": [
       "(199819, 3)"
      ]
     },
     "execution_count": 8,
     "metadata": {},
     "output_type": "execute_result"
    }
   ],
   "source": [
    "df1=df1.dropna()\n",
    "df1.shape"
   ]
  },
  {
   "cell_type": "markdown",
   "metadata": {},
   "source": [
    "**5.--** Compute y grafique el precio primedio diario."
   ]
  },
  {
   "cell_type": "code",
   "execution_count": 10,
   "metadata": {},
   "outputs": [
    {
     "data": {
      "text/html": [
       "<div>\n",
       "<style scoped>\n",
       "    .dataframe tbody tr th:only-of-type {\n",
       "        vertical-align: middle;\n",
       "    }\n",
       "\n",
       "    .dataframe tbody tr th {\n",
       "        vertical-align: top;\n",
       "    }\n",
       "\n",
       "    .dataframe thead th {\n",
       "        text-align: right;\n",
       "    }\n",
       "</style>\n",
       "<table border=\"1\" class=\"dataframe\">\n",
       "  <thead>\n",
       "    <tr style=\"text-align: right;\">\n",
       "      <th></th>\n",
       "      <th>fecha</th>\n",
       "      <th>hora</th>\n",
       "      <th>precio</th>\n",
       "      <th>day</th>\n",
       "    </tr>\n",
       "  </thead>\n",
       "  <tbody>\n",
       "    <tr>\n",
       "      <th>1</th>\n",
       "      <td>1995-07-20</td>\n",
       "      <td>1</td>\n",
       "      <td>1.073</td>\n",
       "      <td>20</td>\n",
       "    </tr>\n",
       "    <tr>\n",
       "      <th>2</th>\n",
       "      <td>1995-07-20</td>\n",
       "      <td>2</td>\n",
       "      <td>1.073</td>\n",
       "      <td>20</td>\n",
       "    </tr>\n",
       "    <tr>\n",
       "      <th>3</th>\n",
       "      <td>1995-07-20</td>\n",
       "      <td>3</td>\n",
       "      <td>1.073</td>\n",
       "      <td>20</td>\n",
       "    </tr>\n",
       "    <tr>\n",
       "      <th>4</th>\n",
       "      <td>1995-07-20</td>\n",
       "      <td>4</td>\n",
       "      <td>1.073</td>\n",
       "      <td>20</td>\n",
       "    </tr>\n",
       "    <tr>\n",
       "      <th>5</th>\n",
       "      <td>1995-07-20</td>\n",
       "      <td>5</td>\n",
       "      <td>1.073</td>\n",
       "      <td>20</td>\n",
       "    </tr>\n",
       "  </tbody>\n",
       "</table>\n",
       "</div>"
      ],
      "text/plain": [
       "       fecha  hora  precio  day\n",
       "1 1995-07-20     1   1.073   20\n",
       "2 1995-07-20     2   1.073   20\n",
       "3 1995-07-20     3   1.073   20\n",
       "4 1995-07-20     4   1.073   20\n",
       "5 1995-07-20     5   1.073   20"
      ]
     },
     "execution_count": 10,
     "metadata": {},
     "output_type": "execute_result"
    }
   ],
   "source": [
    "df1.fecha = pd.to_datetime(df1.fecha)\n",
    "df1['day'] = df1.fecha.dt.day\n",
    "df1.head()"
   ]
  },
  {
   "cell_type": "code",
   "execution_count": 11,
   "metadata": {},
   "outputs": [
    {
     "data": {
      "text/html": [
       "<div>\n",
       "<style scoped>\n",
       "    .dataframe tbody tr th:only-of-type {\n",
       "        vertical-align: middle;\n",
       "    }\n",
       "\n",
       "    .dataframe tbody tr th {\n",
       "        vertical-align: top;\n",
       "    }\n",
       "\n",
       "    .dataframe thead th {\n",
       "        text-align: right;\n",
       "    }\n",
       "</style>\n",
       "<table border=\"1\" class=\"dataframe\">\n",
       "  <thead>\n",
       "    <tr style=\"text-align: right;\">\n",
       "      <th></th>\n",
       "      <th>day</th>\n",
       "      <th>precio</th>\n",
       "    </tr>\n",
       "  </thead>\n",
       "  <tbody>\n",
       "    <tr>\n",
       "      <th>0</th>\n",
       "      <td>1</td>\n",
       "      <td>107.854329</td>\n",
       "    </tr>\n",
       "    <tr>\n",
       "      <th>1</th>\n",
       "      <td>2</td>\n",
       "      <td>108.913259</td>\n",
       "    </tr>\n",
       "    <tr>\n",
       "      <th>2</th>\n",
       "      <td>3</td>\n",
       "      <td>110.298928</td>\n",
       "    </tr>\n",
       "    <tr>\n",
       "      <th>3</th>\n",
       "      <td>4</td>\n",
       "      <td>111.968630</td>\n",
       "    </tr>\n",
       "    <tr>\n",
       "      <th>4</th>\n",
       "      <td>5</td>\n",
       "      <td>111.388790</td>\n",
       "    </tr>\n",
       "  </tbody>\n",
       "</table>\n",
       "</div>"
      ],
      "text/plain": [
       "   day      precio\n",
       "0    1  107.854329\n",
       "1    2  108.913259\n",
       "2    3  110.298928\n",
       "3    4  111.968630\n",
       "4    5  111.388790"
      ]
     },
     "execution_count": 11,
     "metadata": {},
     "output_type": "execute_result"
    }
   ],
   "source": [
    "prom_diario = df1.groupby(['day']).mean()[['precio']].reset_index()\n",
    "prom_diario.head()"
   ]
  },
  {
   "cell_type": "code",
   "execution_count": 14,
   "metadata": {},
   "outputs": [
    {
     "data": {
      "image/png": "[encoded data removed]",
      "text/plain": [
       "<Figure size 432x288 with 1 Axes>"
      ]
     },
     "metadata": {},
     "output_type": "display_data"
    }
   ],
   "source": [
    "import seaborn as sns; sns.set()\n",
    "import matplotlib.pyplot as plt\n",
    "ax = sns.lineplot(x=\"day\", y=\"precio\", data=prom_diario)"
   ]
  },
  {
   "cell_type": "markdown",
   "metadata": {},
   "source": [
    "**6.--** Compute y grafique el precio máximo por mes."
   ]
  },
  {
   "cell_type": "code",
   "execution_count": 25,
   "metadata": {},
   "outputs": [],
   "source": [
    "df1['month'] = df1.fecha.dt.month\n",
    "precio_max_mes = df1.groupby(['month']).max()[['precio']].reset_index()\n",
    "precio_max_mes.head()\n",
    "x=df1['month']\n",
    "y=df1['precio']"
   ]
  },
  {
   "cell_type": "code",
   "execution_count": 35,
   "metadata": {},
   "outputs": [
    {
     "data": {
      "text/plain": [
       "Text(0.5, 1.0, 'Precio máximo por mes')"
      ]
     },
     "execution_count": 35,
     "metadata": {},
     "output_type": "execute_result"
    },
    {
     "data": {
      "image/png": "[encoded data removed]",
      "text/plain": [
       "<Figure size 432x288 with 1 Axes>"
      ]
     },
     "metadata": {},
     "output_type": "display_data"
    }
   ],
   "source": [
    "sns.set(style=\"white\", context=\"talk\")\n",
    "sns.barplot(x=x, y=y, palette=\"Greens_r\").set_title(\"Precio máximo por mes\")"
   ]
  },
  {
   "cell_type": "code",
   "execution_count": 36,
   "metadata": {},
   "outputs": [
    {
     "data": {
      "image/png": "[encoded data removed]",
      "text/plain": [
       "<Figure size 432x288 with 1 Axes>"
      ]
     },
     "metadata": {},
     "output_type": "display_data"
    }
   ],
   "source": [
    "ax = sns.lineplot(x=\"month\", y=\"precio\", data=precio_max_mes).set_title(\"Precio máximo por mes\")"
   ]
  },
  {
   "cell_type": "markdown",
   "metadata": {},
   "source": [
    "**7.--** Compute y grafique el precio mínimo mensual."
   ]
  },
  {
   "cell_type": "code",
   "execution_count": 34,
   "metadata": {},
   "outputs": [
    {
     "data": {
      "text/plain": [
       "Text(0.5, 1.0, 'Precio mínimo por mes')"
      ]
     },
     "execution_count": 34,
     "metadata": {},
     "output_type": "execute_result"
    },
    {
     "data": {
      "image/png": "[encoded data removed]",
      "text/plain": [
       "<Figure size 432x288 with 1 Axes>"
      ]
     },
     "metadata": {},
     "output_type": "display_data"
    }
   ],
   "source": [
    "precio_min_mes = df1.groupby(['month']).min()[['precio']].reset_index()\n",
    "precio_min_mes.head()\n",
    "x=df1['month']\n",
    "y=df1['precio']\n",
    "sns.set(style=\"white\", context=\"talk\")\n",
    "sns.barplot(x=x, y=y, palette=\"Paired_r\").set_title(\"Precio mínimo por mes\")"
   ]
  },
  {
   "cell_type": "markdown",
   "metadata": {},
   "source": [
    "**8.--** Haga un gráfico para comparar el precio máximo del mes (para cada mes) y el precio promedio mensual."
   ]
  },
  {
   "cell_type": "markdown",
   "metadata": {},
   "source": [
    "**9.--** Haga un histograma que muestre a que horas se produce el máximo precio diario para los días laborales."
   ]
  },
  {
   "cell_type": "markdown",
   "metadata": {},
   "source": [
    "**10.--** Haga un histograma que muestre a que horas se produce el máximo precio diario para los días sabado."
   ]
  },
  {
   "cell_type": "markdown",
   "metadata": {},
   "source": [
    "**11.--** Haga un histograma que muestre a que horas se produce el máximo precio diario para los días domingo."
   ]
  },
  {
   "cell_type": "markdown",
   "metadata": {},
   "source": [
    "**12.--** Imprima una tabla con la fecha y el valor más bajo por año del precio de bolsa."
   ]
  },
  {
   "cell_type": "markdown",
   "metadata": {},
   "source": [
    "**13.--** Haga una gráfica en que se muestre el precio promedio diario y el precio promedio mensual."
   ]
  },
  {
   "cell_type": "markdown",
   "metadata": {},
   "source": [
    "---"
   ]
  },
  {
   "cell_type": "code",
   "execution_count": null,
   "metadata": {},
   "outputs": [],
   "source": []
  },
  {
   "cell_type": "code",
   "execution_count": 19,
   "metadata": {},
   "outputs": [],
   "source": [
    "import sys\n",
    "import os"
   ]
  },
  {
   "cell_type": "code",
   "execution_count": 32,
   "metadata": {},
   "outputs": [
    {
     "data": {
      "text/plain": [
       "['Precio_Bolsa_Nacional_($kwh)_1995.xlsx',\n",
       " 'Precio_Bolsa_Nacional_($kwh)_1996.xlsx',\n",
       " 'Precio_Bolsa_Nacional_($kwh)_1997.xlsx',\n",
       " 'Precio_Bolsa_Nacional_($kwh)_1998.xlsx',\n",
       " 'Precio_Bolsa_Nacional_($kwh)_1999.xlsx',\n",
       " 'Precio_Bolsa_Nacional_($kwh)_2000.xlsx',\n",
       " 'Precio_Bolsa_Nacional_($kwh)_2001.xlsx',\n",
       " 'Precio_Bolsa_Nacional_($kwh)_2002.xlsx',\n",
       " 'Precio_Bolsa_Nacional_($kwh)_2003.xlsx',\n",
       " 'Precio_Bolsa_Nacional_($kwh)_2004.xlsx',\n",
       " 'Precio_Bolsa_Nacional_($kwh)_2005.xlsx',\n",
       " 'Precio_Bolsa_Nacional_($kwh)_2006.xlsx',\n",
       " 'Precio_Bolsa_Nacional_($kwh)_2007.xlsx',\n",
       " 'Precio_Bolsa_Nacional_($kwh)_2008.xlsx',\n",
       " 'Precio_Bolsa_Nacional_($kwh)_2009.xlsx',\n",
       " 'Precio_Bolsa_Nacional_($kwh)_2010.xlsx',\n",
       " 'Precio_Bolsa_Nacional_($kwh)_2011.xlsx',\n",
       " 'Precio_Bolsa_Nacional_($kwh)_2012.xlsx',\n",
       " 'Precio_Bolsa_Nacional_($kwh)_2013.xlsx',\n",
       " 'Precio_Bolsa_Nacional_($kwh)_2014.xlsx',\n",
       " 'Precio_Bolsa_Nacional_($kwh)_2015.xlsx',\n",
       " 'Precio_Bolsa_Nacional_($kwh)_2016.xls',\n",
       " 'Precio_Bolsa_Nacional_($kwh)_2017.xls',\n",
       " 'Precio_Bolsa_Nacional_($kwh)_2018.xls']"
      ]
     },
     "execution_count": 32,
     "metadata": {},
     "output_type": "execute_result"
    }
   ],
   "source": [
    "os.listdir(\"Precio\")"
   ]
  },
  {
   "cell_type": "code",
   "execution_count": 31,
   "metadata": {},
   "outputs": [
    {
     "name": "stdout",
     "output_type": "stream",
     "text": [
      " El volumen de la unidad C no tiene etiqueta.\n",
      " El n£mero de serie del volumen es: 2009-5473\n",
      "\n",
      " Directorio de C:\\Users\\Lina\\Documents\\GitHub\\lab-analisis-exploratorio-de-datos-linagrajales\n",
      "\n",
      "\n",
      " Directorio de C:\\Users\\Lina\\Documents\\GitHub\\lab-analisis-exploratorio-de-datos-linagrajales\n",
      "\n",
      "20/08/2018  07:26            32.811 Precio_Bolsa_Nacional_($kwh)_1995.xlsx\n",
      "20/08/2018  07:26            54.137 Precio_Bolsa_Nacional_($kwh)_1996.xlsx\n",
      "20/08/2018  07:26            63.945 Precio_Bolsa_Nacional_($kwh)_1997.xlsx\n",
      "20/08/2018  07:26            63.547 Precio_Bolsa_Nacional_($kwh)_1998.xlsx\n",
      "20/08/2018  07:26            53.107 Precio_Bolsa_Nacional_($kwh)_1999.xlsx\n",
      "20/08/2018  07:26            58.123 Precio_Bolsa_Nacional_($kwh)_2000.xlsx\n",
      "20/08/2018  07:26            56.834 Precio_Bolsa_Nacional_($kwh)_2001.xlsx\n",
      "20/08/2018  07:26            57.248 Precio_Bolsa_Nacional_($kwh)_2002.xlsx\n",
      "20/08/2018  07:26            56.301 Precio_Bolsa_Nacional_($kwh)_2003.xlsx\n",
      "20/08/2018  07:26            56.632 Precio_Bolsa_Nacional_($kwh)_2004.xlsx\n",
      "20/08/2018  07:26            59.098 Precio_Bolsa_Nacional_($kwh)_2005.xlsx\n",
      "20/08/2018  07:26            57.763 Precio_Bolsa_Nacional_($kwh)_2006.xlsx\n",
      "20/08/2018  07:26            58.139 Precio_Bolsa_Nacional_($kwh)_2007.xlsx\n",
      "20/08/2018  07:26            59.242 Precio_Bolsa_Nacional_($kwh)_2008.xlsx\n",
      "20/08/2018  07:26            58.874 Precio_Bolsa_Nacional_($kwh)_2009.xlsx\n",
      "20/08/2018  07:26            67.649 Precio_Bolsa_Nacional_($kwh)_2010.xlsx\n",
      "20/08/2018  07:26            76.378 Precio_Bolsa_Nacional_($kwh)_2011.xlsx\n",
      "20/08/2018  07:26            76.222 Precio_Bolsa_Nacional_($kwh)_2012.xlsx\n",
      "20/08/2018  07:26            73.665 Precio_Bolsa_Nacional_($kwh)_2013.xlsx\n",
      "20/08/2018  07:26            76.365 Precio_Bolsa_Nacional_($kwh)_2014.xlsx\n",
      "20/08/2018  07:26            67.819 Precio_Bolsa_Nacional_($kwh)_2015.xlsx\n",
      "20/08/2018  07:26           198.144 Precio_Bolsa_Nacional_($kwh)_2016.xls\n",
      "20/08/2018  07:26           197.120 Precio_Bolsa_Nacional_($kwh)_2017.xls\n",
      "20/08/2018  07:26            78.336 Precio_Bolsa_Nacional_($kwh)_2018.xls\n",
      "24/05/2019  13:43         1.146.372 precios.zip\n",
      "              25 archivos      2.903.871 bytes\n",
      "               0 dirs  458.268.700.672 bytes libres\n"
     ]
    }
   ],
   "source": [
    "ls -1v Precio*"
   ]
  },
  {
   "cell_type": "code",
   "execution_count": 51,
   "metadata": {},
   "outputs": [
    {
     "data": {
      "text/plain": [
       "25"
      ]
     },
     "execution_count": 51,
     "metadata": {},
     "output_type": "execute_result"
    }
   ],
   "source": [
    "file.shape[1]-1"
   ]
  },
  {
   "cell_type": "code",
   "execution_count": 48,
   "metadata": {},
   "outputs": [
    {
     "data": {
      "text/html": [
       "<div>\n",
       "<style scoped>\n",
       "    .dataframe tbody tr th:only-of-type {\n",
       "        vertical-align: middle;\n",
       "    }\n",
       "\n",
       "    .dataframe tbody tr th {\n",
       "        vertical-align: top;\n",
       "    }\n",
       "\n",
       "    .dataframe thead th {\n",
       "        text-align: right;\n",
       "    }\n",
       "</style>\n",
       "<table border=\"1\" class=\"dataframe\">\n",
       "  <thead>\n",
       "    <tr style=\"text-align: right;\">\n",
       "      <th></th>\n",
       "      <th>Fecha</th>\n",
       "      <th>0</th>\n",
       "      <th>1</th>\n",
       "      <th>2</th>\n",
       "      <th>3</th>\n",
       "      <th>4</th>\n",
       "      <th>5</th>\n",
       "      <th>6</th>\n",
       "      <th>7</th>\n",
       "      <th>8</th>\n",
       "      <th>...</th>\n",
       "      <th>15</th>\n",
       "      <th>16</th>\n",
       "      <th>17</th>\n",
       "      <th>18</th>\n",
       "      <th>19</th>\n",
       "      <th>20</th>\n",
       "      <th>21</th>\n",
       "      <th>22</th>\n",
       "      <th>23</th>\n",
       "      <th>Version</th>\n",
       "    </tr>\n",
       "  </thead>\n",
       "  <tbody>\n",
       "    <tr>\n",
       "      <th>0</th>\n",
       "      <td>2018-01-01</td>\n",
       "      <td>123.167294</td>\n",
       "      <td>123.167294</td>\n",
       "      <td>123.167294</td>\n",
       "      <td>123.167294</td>\n",
       "      <td>123.167294</td>\n",
       "      <td>123.167294</td>\n",
       "      <td>101.647294</td>\n",
       "      <td>101.647294</td>\n",
       "      <td>112.139294</td>\n",
       "      <td>...</td>\n",
       "      <td>123.167294</td>\n",
       "      <td>123.167294</td>\n",
       "      <td>123.167294</td>\n",
       "      <td>128.167294</td>\n",
       "      <td>128.167294</td>\n",
       "      <td>128.167294</td>\n",
       "      <td>128.167294</td>\n",
       "      <td>123.167294</td>\n",
       "      <td>123.167294</td>\n",
       "      <td>TXF</td>\n",
       "    </tr>\n",
       "    <tr>\n",
       "      <th>1</th>\n",
       "      <td>2018-01-02</td>\n",
       "      <td>104.201894</td>\n",
       "      <td>104.201894</td>\n",
       "      <td>104.201894</td>\n",
       "      <td>104.201894</td>\n",
       "      <td>104.201894</td>\n",
       "      <td>106.024894</td>\n",
       "      <td>142.201894</td>\n",
       "      <td>119.201894</td>\n",
       "      <td>149.201894</td>\n",
       "      <td>...</td>\n",
       "      <td>149.201894</td>\n",
       "      <td>149.201894</td>\n",
       "      <td>149.201894</td>\n",
       "      <td>152.201894</td>\n",
       "      <td>152.201894</td>\n",
       "      <td>152.201894</td>\n",
       "      <td>149.201894</td>\n",
       "      <td>149.201894</td>\n",
       "      <td>142.201894</td>\n",
       "      <td>TXF</td>\n",
       "    </tr>\n",
       "    <tr>\n",
       "      <th>2</th>\n",
       "      <td>2018-01-03</td>\n",
       "      <td>104.139873</td>\n",
       "      <td>106.062873</td>\n",
       "      <td>103.129873</td>\n",
       "      <td>104.139873</td>\n",
       "      <td>104.139873</td>\n",
       "      <td>106.062873</td>\n",
       "      <td>106.062873</td>\n",
       "      <td>125.239873</td>\n",
       "      <td>135.239873</td>\n",
       "      <td>...</td>\n",
       "      <td>149.439873</td>\n",
       "      <td>149.439873</td>\n",
       "      <td>149.439873</td>\n",
       "      <td>152.239873</td>\n",
       "      <td>152.239873</td>\n",
       "      <td>163.239873</td>\n",
       "      <td>149.439873</td>\n",
       "      <td>149.439873</td>\n",
       "      <td>135.239873</td>\n",
       "      <td>TXF</td>\n",
       "    </tr>\n",
       "    <tr>\n",
       "      <th>3</th>\n",
       "      <td>2018-01-04</td>\n",
       "      <td>132.136385</td>\n",
       "      <td>132.136385</td>\n",
       "      <td>132.136385</td>\n",
       "      <td>111.843385</td>\n",
       "      <td>132.136385</td>\n",
       "      <td>138.136385</td>\n",
       "      <td>138.136385</td>\n",
       "      <td>144.136385</td>\n",
       "      <td>148.136385</td>\n",
       "      <td>...</td>\n",
       "      <td>150.136385</td>\n",
       "      <td>155.136385</td>\n",
       "      <td>148.136385</td>\n",
       "      <td>153.236385</td>\n",
       "      <td>153.236385</td>\n",
       "      <td>153.236385</td>\n",
       "      <td>150.136385</td>\n",
       "      <td>148.136385</td>\n",
       "      <td>144.136385</td>\n",
       "      <td>TXF</td>\n",
       "    </tr>\n",
       "    <tr>\n",
       "      <th>4</th>\n",
       "      <td>2018-01-05</td>\n",
       "      <td>128.855667</td>\n",
       "      <td>122.855667</td>\n",
       "      <td>122.855667</td>\n",
       "      <td>122.855667</td>\n",
       "      <td>122.855667</td>\n",
       "      <td>122.855667</td>\n",
       "      <td>128.855667</td>\n",
       "      <td>128.855667</td>\n",
       "      <td>140.855667</td>\n",
       "      <td>...</td>\n",
       "      <td>143.955667</td>\n",
       "      <td>143.955667</td>\n",
       "      <td>143.955667</td>\n",
       "      <td>143.955667</td>\n",
       "      <td>143.955667</td>\n",
       "      <td>143.955667</td>\n",
       "      <td>143.955667</td>\n",
       "      <td>140.855667</td>\n",
       "      <td>128.855667</td>\n",
       "      <td>TXF</td>\n",
       "    </tr>\n",
       "  </tbody>\n",
       "</table>\n",
       "<p>5 rows × 26 columns</p>\n",
       "</div>"
      ],
      "text/plain": [
       "        Fecha           0           1           2           3           4  \\\n",
       "0  2018-01-01  123.167294  123.167294  123.167294  123.167294  123.167294   \n",
       "1  2018-01-02  104.201894  104.201894  104.201894  104.201894  104.201894   \n",
       "2  2018-01-03  104.139873  106.062873  103.129873  104.139873  104.139873   \n",
       "3  2018-01-04  132.136385  132.136385  132.136385  111.843385  132.136385   \n",
       "4  2018-01-05  128.855667  122.855667  122.855667  122.855667  122.855667   \n",
       "\n",
       "            5           6           7           8  ...          15  \\\n",
       "0  123.167294  101.647294  101.647294  112.139294  ...  123.167294   \n",
       "1  106.024894  142.201894  119.201894  149.201894  ...  149.201894   \n",
       "2  106.062873  106.062873  125.239873  135.239873  ...  149.439873   \n",
       "3  138.136385  138.136385  144.136385  148.136385  ...  150.136385   \n",
       "4  122.855667  128.855667  128.855667  140.855667  ...  143.955667   \n",
       "\n",
       "           16          17          18          19          20          21  \\\n",
       "0  123.167294  123.167294  128.167294  128.167294  128.167294  128.167294   \n",
       "1  149.201894  149.201894  152.201894  152.201894  152.201894  149.201894   \n",
       "2  149.439873  149.439873  152.239873  152.239873  163.239873  149.439873   \n",
       "3  155.136385  148.136385  153.236385  153.236385  153.236385  150.136385   \n",
       "4  143.955667  143.955667  143.955667  143.955667  143.955667  143.955667   \n",
       "\n",
       "           22          23  Version  \n",
       "0  123.167294  123.167294      TXF  \n",
       "1  149.201894  142.201894      TXF  \n",
       "2  149.439873  135.239873      TXF  \n",
       "3  148.136385  144.136385      TXF  \n",
       "4  140.855667  128.855667      TXF  \n",
       "\n",
       "[5 rows x 26 columns]"
      ]
     },
     "execution_count": 48,
     "metadata": {},
     "output_type": "execute_result"
    }
   ],
   "source": [
    "file.head()"
   ]
  },
  {
   "cell_type": "code",
   "execution_count": null,
   "metadata": {},
   "outputs": [],
   "source": []
  }
 ],
 "metadata": {
  "anaconda-cloud": {},
  "kernel_info": {
   "name": "python3"
  },
  "kernelspec": {
   "display_name": "Python 3",
   "language": "python",
   "name": "python3"
  },
  "language_info": {
   "codemirror_mode": {
    "name": "ipython",
    "version": 3
   },
   "file_extension": ".py",
   "mimetype": "text/x-python",
   "name": "python",
   "nbconvert_exporter": "python",
   "pygments_lexer": "ipython3",
   "version": "3.7.3"
  },
  "nteract": {
   "version": "0.7.1"
  }
 },
 "nbformat": 4,
 "nbformat_minor": 2
}
